{
 "cells": [
  {
   "cell_type": "code",
   "execution_count": 288,
   "id": "7924d742",
   "metadata": {},
   "outputs": [],
   "source": [
    "import pandas as pd"
   ]
  },
  {
   "cell_type": "markdown",
   "id": "e63a5a77",
   "metadata": {},
   "source": [
    "# Import data"
   ]
  },
  {
   "cell_type": "code",
   "execution_count": 289,
   "id": "1fddeb9b",
   "metadata": {},
   "outputs": [],
   "source": [
    "# import the data set\n",
    "dataSet = pd.read_csv('Zomato Chennai Listing 2020.csv')"
   ]
  },
  {
   "cell_type": "markdown",
   "id": "09d03eb3",
   "metadata": {},
   "source": [
    "# Get info about data"
   ]
  },
  {
   "cell_type": "code",
   "execution_count": 290,
   "id": "1c675634",
   "metadata": {},
   "outputs": [
    {
     "data": {
      "text/plain": [
       "(12032, 12)"
      ]
     },
     "execution_count": 290,
     "metadata": {},
     "output_type": "execute_result"
    }
   ],
   "source": [
    "# How many rows and columns\n",
    "\n",
    "dataSet.shape"
   ]
  },
  {
   "cell_type": "code",
   "execution_count": 291,
   "id": "f7600f70",
   "metadata": {},
   "outputs": [
    {
     "data": {
      "text/html": [
       "<div>\n",
       "<style scoped>\n",
       "    .dataframe tbody tr th:only-of-type {\n",
       "        vertical-align: middle;\n",
       "    }\n",
       "\n",
       "    .dataframe tbody tr th {\n",
       "        vertical-align: top;\n",
       "    }\n",
       "\n",
       "    .dataframe thead th {\n",
       "        text-align: right;\n",
       "    }\n",
       "</style>\n",
       "<table border=\"1\" class=\"dataframe\">\n",
       "  <thead>\n",
       "    <tr style=\"text-align: right;\">\n",
       "      <th></th>\n",
       "      <th>Zomato URL</th>\n",
       "      <th>Name of Restaurant</th>\n",
       "      <th>Address</th>\n",
       "      <th>Location</th>\n",
       "      <th>Cuisine</th>\n",
       "      <th>Top Dishes</th>\n",
       "      <th>Price for 2</th>\n",
       "      <th>Dining Rating</th>\n",
       "      <th>Dining Rating Count</th>\n",
       "      <th>Delivery Rating</th>\n",
       "      <th>Delivery Rating Count</th>\n",
       "      <th>Features</th>\n",
       "    </tr>\n",
       "  </thead>\n",
       "  <tbody>\n",
       "    <tr>\n",
       "      <th>0</th>\n",
       "      <td>https://www.zomato.com/chennai/yaa-mohaideen-b...</td>\n",
       "      <td>Yaa Mohaideen Briyani</td>\n",
       "      <td>336 &amp; 338, Main Road, Pallavaram, Chennai</td>\n",
       "      <td>Pallavaram</td>\n",
       "      <td>['Biryani']</td>\n",
       "      <td>['Bread Halwa', ' Chicken 65', ' Mutton Biryan...</td>\n",
       "      <td>500.0</td>\n",
       "      <td>4.3</td>\n",
       "      <td>1500</td>\n",
       "      <td>4.3</td>\n",
       "      <td>9306</td>\n",
       "      <td>['Home Delivery', 'Indoor Seating']</td>\n",
       "    </tr>\n",
       "    <tr>\n",
       "      <th>1</th>\n",
       "      <td>https://www.zomato.com/chennai/sukkubhai-biriy...</td>\n",
       "      <td>Sukkubhai Biriyani</td>\n",
       "      <td>New 14, Old 11/3Q, Railway Station Road, MKN ...</td>\n",
       "      <td>Alandur</td>\n",
       "      <td>['Biryani', ' North Indian', ' Mughlai', ' Des...</td>\n",
       "      <td>['Beef Biryani', ' Beef Fry', ' Paratha', ' Pa...</td>\n",
       "      <td>1000.0</td>\n",
       "      <td>4.4</td>\n",
       "      <td>3059</td>\n",
       "      <td>4.1</td>\n",
       "      <td>39200</td>\n",
       "      <td>['Home Delivery', 'Free Parking', 'Table booki...</td>\n",
       "    </tr>\n",
       "    <tr>\n",
       "      <th>2</th>\n",
       "      <td>https://www.zomato.com/chennai/ss-hyderabad-bi...</td>\n",
       "      <td>SS Hyderabad Biryani</td>\n",
       "      <td>98/339, Arcot Road, Opposite Gokulam Chit Fun...</td>\n",
       "      <td>Kodambakkam</td>\n",
       "      <td>['Biryani', ' North Indian', ' Chinese', ' Ara...</td>\n",
       "      <td>['Brinjal Curry', ' Tandoori Chicken', ' Chick...</td>\n",
       "      <td>500.0</td>\n",
       "      <td>4.3</td>\n",
       "      <td>1361</td>\n",
       "      <td>4.4</td>\n",
       "      <td>10500</td>\n",
       "      <td>['Home Delivery', 'Indoor Seating']</td>\n",
       "    </tr>\n",
       "    <tr>\n",
       "      <th>3</th>\n",
       "      <td>https://www.zomato.com/chennai/kfc-perambur</td>\n",
       "      <td>KFC</td>\n",
       "      <td>10, Periyar Nagar, 70 Feet Road, Near Sheeba ...</td>\n",
       "      <td>Perambur</td>\n",
       "      <td>['Burger', ' Fast Food', ' Finger Food', ' Bev...</td>\n",
       "      <td>['Zinger Burger']</td>\n",
       "      <td>500.0</td>\n",
       "      <td>4.0</td>\n",
       "      <td>1101</td>\n",
       "      <td>4.0</td>\n",
       "      <td>11200</td>\n",
       "      <td>['Home Delivery', 'Free Parking', 'Card Upon D...</td>\n",
       "    </tr>\n",
       "    <tr>\n",
       "      <th>4</th>\n",
       "      <td>https://www.zomato.com/chennai/tasty-kitchen-p...</td>\n",
       "      <td>Tasty Kitchen</td>\n",
       "      <td>135B, SRP Colony, Peravallur, Near Perambur, ...</td>\n",
       "      <td>Perambur</td>\n",
       "      <td>['Chinese', ' Biryani', ' North Indian', ' Che...</td>\n",
       "      <td>['Mutton Biryani', ' Chicken Rice', ' Tomato R...</td>\n",
       "      <td>450.0</td>\n",
       "      <td>4.2</td>\n",
       "      <td>617</td>\n",
       "      <td>4.1</td>\n",
       "      <td>22400</td>\n",
       "      <td>['Home Delivery', 'Indoor Seating']</td>\n",
       "    </tr>\n",
       "  </tbody>\n",
       "</table>\n",
       "</div>"
      ],
      "text/plain": [
       "                                          Zomato URL     Name of Restaurant  \\\n",
       "0  https://www.zomato.com/chennai/yaa-mohaideen-b...  Yaa Mohaideen Briyani   \n",
       "1  https://www.zomato.com/chennai/sukkubhai-biriy...     Sukkubhai Biriyani   \n",
       "2  https://www.zomato.com/chennai/ss-hyderabad-bi...   SS Hyderabad Biryani   \n",
       "3        https://www.zomato.com/chennai/kfc-perambur                    KFC   \n",
       "4  https://www.zomato.com/chennai/tasty-kitchen-p...          Tasty Kitchen   \n",
       "\n",
       "                                             Address     Location  \\\n",
       "0          336 & 338, Main Road, Pallavaram, Chennai   Pallavaram   \n",
       "1   New 14, Old 11/3Q, Railway Station Road, MKN ...      Alandur   \n",
       "2   98/339, Arcot Road, Opposite Gokulam Chit Fun...  Kodambakkam   \n",
       "3   10, Periyar Nagar, 70 Feet Road, Near Sheeba ...     Perambur   \n",
       "4   135B, SRP Colony, Peravallur, Near Perambur, ...     Perambur   \n",
       "\n",
       "                                             Cuisine  \\\n",
       "0                                        ['Biryani']   \n",
       "1  ['Biryani', ' North Indian', ' Mughlai', ' Des...   \n",
       "2  ['Biryani', ' North Indian', ' Chinese', ' Ara...   \n",
       "3  ['Burger', ' Fast Food', ' Finger Food', ' Bev...   \n",
       "4  ['Chinese', ' Biryani', ' North Indian', ' Che...   \n",
       "\n",
       "                                          Top Dishes  Price for 2  \\\n",
       "0  ['Bread Halwa', ' Chicken 65', ' Mutton Biryan...        500.0   \n",
       "1  ['Beef Biryani', ' Beef Fry', ' Paratha', ' Pa...       1000.0   \n",
       "2  ['Brinjal Curry', ' Tandoori Chicken', ' Chick...        500.0   \n",
       "3                                  ['Zinger Burger']        500.0   \n",
       "4  ['Mutton Biryani', ' Chicken Rice', ' Tomato R...        450.0   \n",
       "\n",
       "  Dining Rating Dining Rating Count Delivery Rating Delivery Rating Count  \\\n",
       "0           4.3                1500             4.3                  9306   \n",
       "1           4.4                3059             4.1                 39200   \n",
       "2           4.3                1361             4.4                 10500   \n",
       "3           4.0                1101             4.0                 11200   \n",
       "4           4.2                 617             4.1                 22400   \n",
       "\n",
       "                                            Features  \n",
       "0                ['Home Delivery', 'Indoor Seating']  \n",
       "1  ['Home Delivery', 'Free Parking', 'Table booki...  \n",
       "2                ['Home Delivery', 'Indoor Seating']  \n",
       "3  ['Home Delivery', 'Free Parking', 'Card Upon D...  \n",
       "4                ['Home Delivery', 'Indoor Seating']  "
      ]
     },
     "execution_count": 291,
     "metadata": {},
     "output_type": "execute_result"
    }
   ],
   "source": [
    "# Head of the data total Five\n",
    "\n",
    "dataSet.head()"
   ]
  },
  {
   "cell_type": "code",
   "execution_count": 292,
   "id": "ac6f08cc",
   "metadata": {},
   "outputs": [
    {
     "name": "stdout",
     "output_type": "stream",
     "text": [
      "<class 'pandas.core.frame.DataFrame'>\n",
      "RangeIndex: 12032 entries, 0 to 12031\n",
      "Data columns (total 12 columns):\n",
      "Zomato URL               12032 non-null object\n",
      "Name of Restaurant       12032 non-null object\n",
      "Address                  12032 non-null object\n",
      "Location                 12032 non-null object\n",
      "Cuisine                  12032 non-null object\n",
      "Top Dishes               12032 non-null object\n",
      "Price for 2              12032 non-null float64\n",
      "Dining Rating            12032 non-null object\n",
      "Dining Rating Count      12032 non-null object\n",
      "Delivery Rating          12032 non-null object\n",
      "Delivery Rating Count    12032 non-null object\n",
      "Features                 12032 non-null object\n",
      "dtypes: float64(1), object(11)\n",
      "memory usage: 1.1+ MB\n"
     ]
    }
   ],
   "source": [
    "# dataSet information about object, int, float\n",
    "\n",
    "dataSet.info()"
   ]
  },
  {
   "cell_type": "markdown",
   "id": "0a64a3a7",
   "metadata": {},
   "source": [
    "# Data cleaning"
   ]
  },
  {
   "cell_type": "code",
   "execution_count": 293,
   "id": "39a22256",
   "metadata": {},
   "outputs": [],
   "source": [
    "# Remove the columns address and Zomato URL is not wanted\n",
    "\n",
    "dataSet.drop(['Address', 'Zomato URL'], axis = 1, inplace = True)"
   ]
  },
  {
   "cell_type": "code",
   "execution_count": 306,
   "id": "0e789d2d",
   "metadata": {},
   "outputs": [
    {
     "data": {
      "text/html": [
       "<div>\n",
       "<style scoped>\n",
       "    .dataframe tbody tr th:only-of-type {\n",
       "        vertical-align: middle;\n",
       "    }\n",
       "\n",
       "    .dataframe tbody tr th {\n",
       "        vertical-align: top;\n",
       "    }\n",
       "\n",
       "    .dataframe thead th {\n",
       "        text-align: right;\n",
       "    }\n",
       "</style>\n",
       "<table border=\"1\" class=\"dataframe\">\n",
       "  <thead>\n",
       "    <tr style=\"text-align: right;\">\n",
       "      <th></th>\n",
       "      <th>Name of Restaurant</th>\n",
       "      <th>Location</th>\n",
       "      <th>Cuisine</th>\n",
       "      <th>Top Dishes</th>\n",
       "      <th>Dining Rating</th>\n",
       "      <th>Dining Rating Count</th>\n",
       "      <th>Delivery Rating</th>\n",
       "      <th>Delivery Rating Count</th>\n",
       "      <th>Features</th>\n",
       "    </tr>\n",
       "  </thead>\n",
       "  <tbody>\n",
       "    <tr>\n",
       "      <th>count</th>\n",
       "      <td>12032</td>\n",
       "      <td>12032</td>\n",
       "      <td>12032</td>\n",
       "      <td>12032</td>\n",
       "      <td>12032</td>\n",
       "      <td>12032</td>\n",
       "      <td>12032</td>\n",
       "      <td>12032</td>\n",
       "      <td>12032</td>\n",
       "    </tr>\n",
       "    <tr>\n",
       "      <th>unique</th>\n",
       "      <td>8369</td>\n",
       "      <td>129</td>\n",
       "      <td>2423</td>\n",
       "      <td>2190</td>\n",
       "      <td>35</td>\n",
       "      <td>792</td>\n",
       "      <td>33</td>\n",
       "      <td>2279</td>\n",
       "      <td>1554</td>\n",
       "    </tr>\n",
       "    <tr>\n",
       "      <th>top</th>\n",
       "      <td>Amma Unavagam</td>\n",
       "      <td>Porur</td>\n",
       "      <td>['South Indian']</td>\n",
       "      <td>Favourite Dishe</td>\n",
       "      <td>Not provide Dining</td>\n",
       "      <td>Not provide Dining</td>\n",
       "      <td>Not provide Dining</td>\n",
       "      <td>0</td>\n",
       "      <td>['Home Delivery', 'Indoor Seating']</td>\n",
       "    </tr>\n",
       "    <tr>\n",
       "      <th>freq</th>\n",
       "      <td>78</td>\n",
       "      <td>421</td>\n",
       "      <td>883</td>\n",
       "      <td>9641</td>\n",
       "      <td>5351</td>\n",
       "      <td>5351</td>\n",
       "      <td>5851</td>\n",
       "      <td>5870</td>\n",
       "      <td>2447</td>\n",
       "    </tr>\n",
       "  </tbody>\n",
       "</table>\n",
       "</div>"
      ],
      "text/plain": [
       "       Name of Restaurant Location           Cuisine       Top Dishes  \\\n",
       "count               12032    12032             12032            12032   \n",
       "unique               8369      129              2423             2190   \n",
       "top         Amma Unavagam    Porur  ['South Indian']  Favourite Dishe   \n",
       "freq                   78      421               883             9641   \n",
       "\n",
       "             Dining Rating Dining Rating Count     Delivery Rating  \\\n",
       "count                12032               12032               12032   \n",
       "unique                  35                 792                  33   \n",
       "top     Not provide Dining  Not provide Dining  Not provide Dining   \n",
       "freq                  5351                5351                5851   \n",
       "\n",
       "       Delivery Rating Count                             Features  \n",
       "count                  12032                                12032  \n",
       "unique                  2279                                 1554  \n",
       "top                        0  ['Home Delivery', 'Indoor Seating']  \n",
       "freq                    5870                                 2447  "
      ]
     },
     "execution_count": 306,
     "metadata": {},
     "output_type": "execute_result"
    }
   ],
   "source": [
    "# And describe the Category data\n",
    "\n",
    "dataSet[['Name of Restaurant', 'Location', 'Cuisine',\n",
    "       'Top Dishes', 'Dining Rating', 'Dining Rating Count',\n",
    "       'Delivery Rating', 'Delivery Rating Count', 'Features']].describe()"
   ]
  },
  {
   "cell_type": "code",
   "execution_count": 295,
   "id": "4a8feb54",
   "metadata": {},
   "outputs": [
    {
     "data": {
      "text/plain": [
       "Not enough Delivery Reviews    3379\n",
       "Does not offer Delivery        2252\n",
       "None                            220\n",
       "27                               34\n",
       "60                               30\n",
       "                               ... \n",
       "1211                              1\n",
       "3454                              1\n",
       "1923                              1\n",
       "9855                              1\n",
       "6734                              1\n",
       "Name: Delivery Rating Count, Length: 2282, dtype: int64"
      ]
     },
     "execution_count": 295,
     "metadata": {},
     "output_type": "execute_result"
    }
   ],
   "source": [
    "# show the unique data in Delivery Rating Count\n",
    "\n",
    "dataSet['Delivery Rating Count'].value_counts()"
   ]
  },
  {
   "cell_type": "code",
   "execution_count": 296,
   "id": "4ad91cab",
   "metadata": {},
   "outputs": [],
   "source": [
    "# replace the Delivery Rating Count data for Not enough Delivery Reviews', 'Does not offer Delivery' and 'None' put 0\n",
    "\n",
    "dataSet['Delivery Rating Count'].replace(to_replace = ['Not enough Delivery Reviews', 'Does not offer Delivery', 'None'], value = '0', inplace = True)"
   ]
  },
  {
   "cell_type": "code",
   "execution_count": 297,
   "id": "ae1cc180",
   "metadata": {},
   "outputs": [
    {
     "data": {
      "text/plain": [
       "0       5870\n",
       "27        34\n",
       "37        30\n",
       "40        30\n",
       "60        30\n",
       "        ... \n",
       "3454       1\n",
       "1923       1\n",
       "9855       1\n",
       "5487       1\n",
       "6734       1\n",
       "Name: Delivery Rating Count, Length: 2279, dtype: int64"
      ]
     },
     "execution_count": 297,
     "metadata": {},
     "output_type": "execute_result"
    }
   ],
   "source": [
    "# after replace the Delivery Rating Count data\n",
    "\n",
    "dataSet['Delivery Rating Count'].value_counts()"
   ]
  },
  {
   "cell_type": "code",
   "execution_count": 298,
   "id": "6193ed9b",
   "metadata": {},
   "outputs": [],
   "source": [
    "# some hotel are not provide the Dining table so, replace value\n",
    "\n",
    "dataSet.replace(to_replace = ['None', 'Does not offer Dining', 'Not enough Dining Reviews'], value ='Not provide Dining',inplace=True)"
   ]
  },
  {
   "cell_type": "code",
   "execution_count": 299,
   "id": "8e020639",
   "metadata": {},
   "outputs": [
    {
     "data": {
      "text/plain": [
       "Invalid                                                                                                                          9641\n",
       "['Biryani']                                                                                                                        30\n",
       "['Coffee']                                                                                                                         14\n",
       "['Chicken Biryani']                                                                                                                12\n",
       "['Sandwich']                                                                                                                       11\n",
       "                                                                                                                                 ... \n",
       "['Bread Halwa', ' Biryani', ' Chicken Grill']                                                                                       1\n",
       "['Fries', ' Sandwich', ' Thick Shakes']                                                                                             1\n",
       "['Pepper Prawns']                                                                                                                   1\n",
       "['Burgers', ' Caramel Donut', ' Death By Chocolate', ' Cappuccino', ' Filtered Coffee', ' Chocolate Donut', ' Hot Chocolate']       1\n",
       "['Fish', ' Elaneer Payasam', ' Cocktails', ' Mocktails', ' Shawarma', ' Biryani', ' Prawn']                                         1\n",
       "Name: Top Dishes, Length: 2190, dtype: int64"
      ]
     },
     "execution_count": 299,
     "metadata": {},
     "output_type": "execute_result"
    }
   ],
   "source": [
    "# see the Unique Top Dishes \n",
    "\n",
    "dataSet['Top Dishes'].value_counts()"
   ]
  },
  {
   "cell_type": "code",
   "execution_count": 300,
   "id": "9cde92b4",
   "metadata": {},
   "outputs": [],
   "source": [
    "# Most of the Top Dishes is Invalid so, change the Favourite Dishe. common for all the peoples\n",
    "\n",
    "dataSet['Top Dishes'].replace(to_replace = 'Invalid', value = 'Favourite Dishe', inplace = True)"
   ]
  },
  {
   "cell_type": "code",
   "execution_count": 301,
   "id": "b37aec11",
   "metadata": {},
   "outputs": [
    {
     "data": {
      "text/plain": [
       "Favourite Dishe                                                                                                                  9641\n",
       "['Biryani']                                                                                                                        30\n",
       "['Coffee']                                                                                                                         14\n",
       "['Chicken Biryani']                                                                                                                12\n",
       "['Sandwich']                                                                                                                       11\n",
       "                                                                                                                                 ... \n",
       "['Bread Halwa', ' Biryani', ' Chicken Grill']                                                                                       1\n",
       "['Fries', ' Sandwich', ' Thick Shakes']                                                                                             1\n",
       "['Pepper Prawns']                                                                                                                   1\n",
       "['Burgers', ' Caramel Donut', ' Death By Chocolate', ' Cappuccino', ' Filtered Coffee', ' Chocolate Donut', ' Hot Chocolate']       1\n",
       "['Fish', ' Elaneer Payasam', ' Cocktails', ' Mocktails', ' Shawarma', ' Biryani', ' Prawn']                                         1\n",
       "Name: Top Dishes, Length: 2190, dtype: int64"
      ]
     },
     "execution_count": 301,
     "metadata": {},
     "output_type": "execute_result"
    }
   ],
   "source": [
    "# after the replace the data \n",
    "\n",
    "dataSet['Top Dishes'].value_counts()"
   ]
  },
  {
   "cell_type": "markdown",
   "id": "b70c3b2d",
   "metadata": {},
   "source": [
    "# Location"
   ]
  },
  {
   "cell_type": "code",
   "execution_count": 302,
   "id": "2d7bb104",
   "metadata": {},
   "outputs": [
    {
     "data": {
      "text/plain": [
       "Porur                              418\n",
       "Velachery                          372\n",
       "Ambattur                           334\n",
       "T. Nagar                           315\n",
       "Perungudi                          288\n",
       "                                  ... \n",
       "IBIS Chennai, OMR                    1\n",
       "Liberty Park Hotel, Kodambakkam      1\n",
       "Hotel Maris, Gopalapuram             1\n",
       "Novotel Chennai, OMR                 1\n",
       "The Westin Chennai, Velachery        1\n",
       "Name: Location, Length: 268, dtype: int64"
      ]
     },
     "execution_count": 302,
     "metadata": {},
     "output_type": "execute_result"
    }
   ],
   "source": [
    "# see the unique Location data\n",
    "\n",
    "dataSet[\"Location\"].value_counts()"
   ]
  },
  {
   "cell_type": "code",
   "execution_count": 303,
   "id": "963aebf8",
   "metadata": {},
   "outputs": [],
   "source": [
    "# Replacing Small regions with Known region name\n",
    "\n",
    "detectCommaSymbol = dataSet[dataSet['Location'].str.find(\",\") != -1]['Location']\n",
    "for x in detectCommaSymbol:\n",
    "    valSplit = x.split(',')\n",
    "    dataSet['Location'].replace(to_replace = x, value = \" \".join(valSplit[1].split()), inplace = True)"
   ]
  },
  {
   "cell_type": "code",
   "execution_count": 304,
   "id": "25023cab",
   "metadata": {},
   "outputs": [
    {
     "data": {
      "text/plain": [
       "Porur                421\n",
       "Velachery            421\n",
       "Ambattur             361\n",
       "T. Nagar             335\n",
       "Perungudi            288\n",
       "                    ... \n",
       "Sriperumbudur          2\n",
       "Citadines              2\n",
       "Grande Bay Resort      2\n",
       "The Slate              1\n",
       "East...                1\n",
       "Name: Location, Length: 129, dtype: int64"
      ]
     },
     "execution_count": 304,
     "metadata": {},
     "output_type": "execute_result"
    }
   ],
   "source": [
    "# after replaced\n",
    "\n",
    "dataSet['Location'].value_counts()"
   ]
  },
  {
   "cell_type": "code",
   "execution_count": 305,
   "id": "2c36dbfe",
   "metadata": {},
   "outputs": [
    {
     "data": {
      "text/html": [
       "<div>\n",
       "<style scoped>\n",
       "    .dataframe tbody tr th:only-of-type {\n",
       "        vertical-align: middle;\n",
       "    }\n",
       "\n",
       "    .dataframe tbody tr th {\n",
       "        vertical-align: top;\n",
       "    }\n",
       "\n",
       "    .dataframe thead th {\n",
       "        text-align: right;\n",
       "    }\n",
       "</style>\n",
       "<table border=\"1\" class=\"dataframe\">\n",
       "  <thead>\n",
       "    <tr style=\"text-align: right;\">\n",
       "      <th></th>\n",
       "      <th>Name of Restaurant</th>\n",
       "      <th>Location</th>\n",
       "      <th>Cuisine</th>\n",
       "      <th>Top Dishes</th>\n",
       "      <th>Price for 2</th>\n",
       "      <th>Dining Rating</th>\n",
       "      <th>Dining Rating Count</th>\n",
       "      <th>Delivery Rating</th>\n",
       "      <th>Delivery Rating Count</th>\n",
       "      <th>Features</th>\n",
       "    </tr>\n",
       "  </thead>\n",
       "  <tbody>\n",
       "    <tr>\n",
       "      <th>0</th>\n",
       "      <td>Yaa Mohaideen Briyani</td>\n",
       "      <td>Pallavaram</td>\n",
       "      <td>['Biryani']</td>\n",
       "      <td>['Bread Halwa', ' Chicken 65', ' Mutton Biryan...</td>\n",
       "      <td>500.0</td>\n",
       "      <td>4.3</td>\n",
       "      <td>1500</td>\n",
       "      <td>4.3</td>\n",
       "      <td>9306</td>\n",
       "      <td>['Home Delivery', 'Indoor Seating']</td>\n",
       "    </tr>\n",
       "    <tr>\n",
       "      <th>1</th>\n",
       "      <td>Sukkubhai Biriyani</td>\n",
       "      <td>Alandur</td>\n",
       "      <td>['Biryani', ' North Indian', ' Mughlai', ' Des...</td>\n",
       "      <td>['Beef Biryani', ' Beef Fry', ' Paratha', ' Pa...</td>\n",
       "      <td>1000.0</td>\n",
       "      <td>4.4</td>\n",
       "      <td>3059</td>\n",
       "      <td>4.1</td>\n",
       "      <td>39200</td>\n",
       "      <td>['Home Delivery', 'Free Parking', 'Table booki...</td>\n",
       "    </tr>\n",
       "    <tr>\n",
       "      <th>2</th>\n",
       "      <td>SS Hyderabad Biryani</td>\n",
       "      <td>Kodambakkam</td>\n",
       "      <td>['Biryani', ' North Indian', ' Chinese', ' Ara...</td>\n",
       "      <td>['Brinjal Curry', ' Tandoori Chicken', ' Chick...</td>\n",
       "      <td>500.0</td>\n",
       "      <td>4.3</td>\n",
       "      <td>1361</td>\n",
       "      <td>4.4</td>\n",
       "      <td>10500</td>\n",
       "      <td>['Home Delivery', 'Indoor Seating']</td>\n",
       "    </tr>\n",
       "    <tr>\n",
       "      <th>3</th>\n",
       "      <td>KFC</td>\n",
       "      <td>Perambur</td>\n",
       "      <td>['Burger', ' Fast Food', ' Finger Food', ' Bev...</td>\n",
       "      <td>['Zinger Burger']</td>\n",
       "      <td>500.0</td>\n",
       "      <td>4.0</td>\n",
       "      <td>1101</td>\n",
       "      <td>4.0</td>\n",
       "      <td>11200</td>\n",
       "      <td>['Home Delivery', 'Free Parking', 'Card Upon D...</td>\n",
       "    </tr>\n",
       "    <tr>\n",
       "      <th>4</th>\n",
       "      <td>Tasty Kitchen</td>\n",
       "      <td>Perambur</td>\n",
       "      <td>['Chinese', ' Biryani', ' North Indian', ' Che...</td>\n",
       "      <td>['Mutton Biryani', ' Chicken Rice', ' Tomato R...</td>\n",
       "      <td>450.0</td>\n",
       "      <td>4.2</td>\n",
       "      <td>617</td>\n",
       "      <td>4.1</td>\n",
       "      <td>22400</td>\n",
       "      <td>['Home Delivery', 'Indoor Seating']</td>\n",
       "    </tr>\n",
       "    <tr>\n",
       "      <th>...</th>\n",
       "      <td>...</td>\n",
       "      <td>...</td>\n",
       "      <td>...</td>\n",
       "      <td>...</td>\n",
       "      <td>...</td>\n",
       "      <td>...</td>\n",
       "      <td>...</td>\n",
       "      <td>...</td>\n",
       "      <td>...</td>\n",
       "      <td>...</td>\n",
       "    </tr>\n",
       "    <tr>\n",
       "      <th>12027</th>\n",
       "      <td>CK's Sandwiches</td>\n",
       "      <td>Porur</td>\n",
       "      <td>['Sandwich']</td>\n",
       "      <td>Favourite Dishe</td>\n",
       "      <td>350.0</td>\n",
       "      <td>Not provide Dining</td>\n",
       "      <td>Not provide Dining</td>\n",
       "      <td>Not provide Dining</td>\n",
       "      <td>0</td>\n",
       "      <td>['Breakfast', 'Delivery Only']</td>\n",
       "    </tr>\n",
       "    <tr>\n",
       "      <th>12028</th>\n",
       "      <td>CK's Sandwiches</td>\n",
       "      <td>Kolathur</td>\n",
       "      <td>['Sandwich']</td>\n",
       "      <td>Favourite Dishe</td>\n",
       "      <td>350.0</td>\n",
       "      <td>Not provide Dining</td>\n",
       "      <td>Not provide Dining</td>\n",
       "      <td>Not provide Dining</td>\n",
       "      <td>0</td>\n",
       "      <td>['Breakfast', 'Delivery Only']</td>\n",
       "    </tr>\n",
       "    <tr>\n",
       "      <th>12029</th>\n",
       "      <td>CK's Sandwiches</td>\n",
       "      <td>Anna Nagar East</td>\n",
       "      <td>['Sandwich']</td>\n",
       "      <td>Favourite Dishe</td>\n",
       "      <td>350.0</td>\n",
       "      <td>Not provide Dining</td>\n",
       "      <td>Not provide Dining</td>\n",
       "      <td>Not provide Dining</td>\n",
       "      <td>0</td>\n",
       "      <td>['Breakfast', 'Delivery Only']</td>\n",
       "    </tr>\n",
       "    <tr>\n",
       "      <th>12030</th>\n",
       "      <td>CK's Sandwiches</td>\n",
       "      <td>Ramapuram</td>\n",
       "      <td>['Sandwich']</td>\n",
       "      <td>Favourite Dishe</td>\n",
       "      <td>350.0</td>\n",
       "      <td>Not provide Dining</td>\n",
       "      <td>Not provide Dining</td>\n",
       "      <td>Not provide Dining</td>\n",
       "      <td>0</td>\n",
       "      <td>['Breakfast', 'Delivery Only']</td>\n",
       "    </tr>\n",
       "    <tr>\n",
       "      <th>12031</th>\n",
       "      <td>CK's Sandwiches</td>\n",
       "      <td>Sholinganallur</td>\n",
       "      <td>['Sandwich']</td>\n",
       "      <td>Favourite Dishe</td>\n",
       "      <td>350.0</td>\n",
       "      <td>Not provide Dining</td>\n",
       "      <td>Not provide Dining</td>\n",
       "      <td>Not provide Dining</td>\n",
       "      <td>0</td>\n",
       "      <td>['Breakfast', 'Delivery Only']</td>\n",
       "    </tr>\n",
       "  </tbody>\n",
       "</table>\n",
       "<p>12032 rows × 10 columns</p>\n",
       "</div>"
      ],
      "text/plain": [
       "          Name of Restaurant         Location  \\\n",
       "0      Yaa Mohaideen Briyani       Pallavaram   \n",
       "1         Sukkubhai Biriyani          Alandur   \n",
       "2       SS Hyderabad Biryani      Kodambakkam   \n",
       "3                        KFC         Perambur   \n",
       "4              Tasty Kitchen         Perambur   \n",
       "...                      ...              ...   \n",
       "12027        CK's Sandwiches            Porur   \n",
       "12028        CK's Sandwiches         Kolathur   \n",
       "12029        CK's Sandwiches  Anna Nagar East   \n",
       "12030        CK's Sandwiches        Ramapuram   \n",
       "12031        CK's Sandwiches   Sholinganallur   \n",
       "\n",
       "                                                 Cuisine  \\\n",
       "0                                            ['Biryani']   \n",
       "1      ['Biryani', ' North Indian', ' Mughlai', ' Des...   \n",
       "2      ['Biryani', ' North Indian', ' Chinese', ' Ara...   \n",
       "3      ['Burger', ' Fast Food', ' Finger Food', ' Bev...   \n",
       "4      ['Chinese', ' Biryani', ' North Indian', ' Che...   \n",
       "...                                                  ...   \n",
       "12027                                       ['Sandwich']   \n",
       "12028                                       ['Sandwich']   \n",
       "12029                                       ['Sandwich']   \n",
       "12030                                       ['Sandwich']   \n",
       "12031                                       ['Sandwich']   \n",
       "\n",
       "                                              Top Dishes  Price for 2  \\\n",
       "0      ['Bread Halwa', ' Chicken 65', ' Mutton Biryan...        500.0   \n",
       "1      ['Beef Biryani', ' Beef Fry', ' Paratha', ' Pa...       1000.0   \n",
       "2      ['Brinjal Curry', ' Tandoori Chicken', ' Chick...        500.0   \n",
       "3                                      ['Zinger Burger']        500.0   \n",
       "4      ['Mutton Biryani', ' Chicken Rice', ' Tomato R...        450.0   \n",
       "...                                                  ...          ...   \n",
       "12027                                    Favourite Dishe        350.0   \n",
       "12028                                    Favourite Dishe        350.0   \n",
       "12029                                    Favourite Dishe        350.0   \n",
       "12030                                    Favourite Dishe        350.0   \n",
       "12031                                    Favourite Dishe        350.0   \n",
       "\n",
       "            Dining Rating Dining Rating Count     Delivery Rating  \\\n",
       "0                     4.3                1500                 4.3   \n",
       "1                     4.4                3059                 4.1   \n",
       "2                     4.3                1361                 4.4   \n",
       "3                     4.0                1101                 4.0   \n",
       "4                     4.2                 617                 4.1   \n",
       "...                   ...                 ...                 ...   \n",
       "12027  Not provide Dining  Not provide Dining  Not provide Dining   \n",
       "12028  Not provide Dining  Not provide Dining  Not provide Dining   \n",
       "12029  Not provide Dining  Not provide Dining  Not provide Dining   \n",
       "12030  Not provide Dining  Not provide Dining  Not provide Dining   \n",
       "12031  Not provide Dining  Not provide Dining  Not provide Dining   \n",
       "\n",
       "      Delivery Rating Count                                           Features  \n",
       "0                      9306                ['Home Delivery', 'Indoor Seating']  \n",
       "1                     39200  ['Home Delivery', 'Free Parking', 'Table booki...  \n",
       "2                     10500                ['Home Delivery', 'Indoor Seating']  \n",
       "3                     11200  ['Home Delivery', 'Free Parking', 'Card Upon D...  \n",
       "4                     22400                ['Home Delivery', 'Indoor Seating']  \n",
       "...                     ...                                                ...  \n",
       "12027                     0                     ['Breakfast', 'Delivery Only']  \n",
       "12028                     0                     ['Breakfast', 'Delivery Only']  \n",
       "12029                     0                     ['Breakfast', 'Delivery Only']  \n",
       "12030                     0                     ['Breakfast', 'Delivery Only']  \n",
       "12031                     0                     ['Breakfast', 'Delivery Only']  \n",
       "\n",
       "[12032 rows x 10 columns]"
      ]
     },
     "execution_count": 305,
     "metadata": {},
     "output_type": "execute_result"
    }
   ],
   "source": [
    "# finall data set cleaning\n",
    "\n",
    "dataSet.to_csv('ZomatoChennai.csv.csv', index=False,header=True)"
   ]
  },
  {
   "cell_type": "code",
   "execution_count": null,
   "id": "dde2a124",
   "metadata": {},
   "outputs": [],
   "source": []
  },
  {
   "cell_type": "code",
   "execution_count": null,
   "id": "6c1cf7a4",
   "metadata": {},
   "outputs": [],
   "source": []
  },
  {
   "cell_type": "code",
   "execution_count": null,
   "id": "24b3e7d2",
   "metadata": {},
   "outputs": [],
   "source": []
  }
 ],
 "metadata": {
  "kernelspec": {
   "display_name": "Python 3 (ipykernel)",
   "language": "python",
   "name": "python3"
  },
  "language_info": {
   "codemirror_mode": {
    "name": "ipython",
    "version": 3
   },
   "file_extension": ".py",
   "mimetype": "text/x-python",
   "name": "python",
   "nbconvert_exporter": "python",
   "pygments_lexer": "ipython3",
   "version": "3.7.6"
  }
 },
 "nbformat": 4,
 "nbformat_minor": 5
}
